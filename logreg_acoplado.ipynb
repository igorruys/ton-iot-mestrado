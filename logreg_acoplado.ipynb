{
 "cells": [
  {
   "cell_type": "code",
   "execution_count": 19,
   "metadata": {},
   "outputs": [],
   "source": [
    "import pandas as pd\n",
    "import numpy as np\n",
    "import seaborn as sns\n",
    "import matplotlib.pyplot as plt\n",
    "from sklearn.model_selection import train_test_split, cross_val_score, StratifiedKFold\n",
    "from pipeline import build_preprocessing_pipeline\n",
    "from sklearn.metrics import accuracy_score, f1_score, make_scorer, balanced_accuracy_score, precision_score, recall_score\n",
    "from sklearn.feature_selection import RFECV\n",
    "from sklearn.model_selection import GridSearchCV, RandomizedSearchCV\n",
    "from scipy.stats import uniform, randint\n",
    "from scipy.stats import uniform, randint\n",
    "from modelos import LogRegWithThreshold, CascadedLogisticRegression\n",
    "from metricas import custom_fbeta\n",
    "from sklearn.preprocessing import LabelEncoder\n",
    "from sklearn.linear_model import LogisticRegression\n",
    "\n",
    "import xgboost as xgb\n",
    "\n",
    "pd.set_option('display.max_columns', 50)"
   ]
  },
  {
   "cell_type": "code",
   "execution_count": 20,
   "metadata": {},
   "outputs": [],
   "source": [
    "df_original = pd.read_csv('data/train_test_network.csv')\n",
    "df_ataques = pd.read_csv('data/attack_dataset.csv')"
   ]
  },
  {
   "cell_type": "markdown",
   "metadata": {},
   "source": [
    "# Separação: Dev-Teste"
   ]
  },
  {
   "cell_type": "code",
   "execution_count": 21,
   "metadata": {},
   "outputs": [],
   "source": [
    "X_original = df_original.iloc[:, :-2]\n",
    "y_original = df_original.iloc[:, -2:]\n",
    "X_ataques = df_ataques.iloc[:, :-2]\n",
    "y_ataques = df_ataques.iloc[:, -2:]\n",
    "\n",
    "#le = LabelEncoder()\n",
    "#y_original.type = le.fit_transform(y_original.type)\n",
    "#y_ataques.type = le.fit_transform(y_ataques.type)\n",
    "\n",
    "Xdev_original, Xtest_original, ydev_original, ytest_original = train_test_split(X_original, y_original, test_size=0.2, stratify=y_original, random_state=42)\n",
    "Xdev_ataques, Xtest_ataques, ydev_ataques, ytest_ataques = train_test_split(X_ataques, y_ataques, test_size=0.2, stratify=y_ataques, random_state=42)\n",
    "\n",
    "Xdev_original = Xdev_original.reset_index(drop=True)\n",
    "Xtest_original = Xtest_original.reset_index(drop=True)\n",
    "ydev_original = ydev_original.reset_index(drop=True)\n",
    "ytest_original = ytest_original.reset_index(drop=True)\n",
    "\n",
    "Xdev_ataques = Xdev_ataques.reset_index(drop=True)\n",
    "Xtest_ataques = Xtest_ataques.reset_index(drop=True)\n",
    "ydev_ataques = ydev_ataques.reset_index(drop=True)\n",
    "ytest_ataques = ytest_ataques.reset_index(drop=True)\n",
    "\n",
    "le = LabelEncoder()\n",
    "ydev_ataques.loc[:, 'type'] = le.fit_transform(ydev_ataques.type)"
   ]
  },
  {
   "cell_type": "markdown",
   "metadata": {},
   "source": [
    "# Pré-processamento"
   ]
  },
  {
   "cell_type": "code",
   "execution_count": 22,
   "metadata": {},
   "outputs": [
    {
     "name": "stderr",
     "output_type": "stream",
     "text": [
      "c:\\Users\\igorr\\anaconda3\\Lib\\site-packages\\sklearn\\preprocessing\\_encoders.py:242: UserWarning: Found unknown categories in columns [11] during transform. These unknown categories will be encoded as all zeros\n",
      "  warnings.warn(\n",
      "c:\\Users\\igorr\\anaconda3\\Lib\\site-packages\\sklearn\\preprocessing\\_encoders.py:242: UserWarning: Found unknown categories in columns [0, 1, 4] during transform. These unknown categories will be encoded as all zeros\n",
      "  warnings.warn(\n",
      "c:\\Users\\igorr\\anaconda3\\Lib\\site-packages\\sklearn\\preprocessing\\_encoders.py:242: UserWarning: Found unknown categories in columns [0, 4] during transform. These unknown categories will be encoded as all zeros\n",
      "  warnings.warn(\n"
     ]
    }
   ],
   "source": [
    "# http_response_body_len nao e exatamente categorica, mas se considerarmos todas\n",
    "# as entradas infrequentes como uma coisa so, ela vira categorica\n",
    "\n",
    "# Textuais que podem ser consideradas categoricas:\n",
    "#ssl_subject, ssl_issuer, dns_query\n",
    "#Sinonimo para features textuais - features descritivas\n",
    "features_textuais = ['http_user_agent', 'http_uri', 'ssl_subject', 'ssl_issuer', 'dns_query']\n",
    "features_categoricas = ['weird_notice', 'weird_addl', 'weird_name', 'http_resp_mime_types', 'http_orig_mime_types', 'http_status_code', 'http_version',\n",
    "                        'http_method', 'http_trans_depth', 'ssl_established',\n",
    "                        'ssl_resumed', 'ssl_cipher', 'ssl_version', 'dns_rejected', 'dns_RA', 'dns_RD', 'dns_AA', 'dns_rcode', 'dns_qtype', 'dns_qclass',\n",
    "                        'service', 'proto', 'conn_state']\n",
    "features_numericas = ['duration', 'dst_pkts', 'src_ip_bytes', 'dst_ip_bytes', 'src_bytes', 'http_response_body_len', 'dst_bytes',\n",
    "                     'missed_bytes', 'src_pkts', 'http_request_body_len']\n",
    "\n",
    "colunas_para_excluir = ['src_ip', 'src_port', 'dst_ip', 'dst_port']\n",
    "\n",
    "features_ip = ['src_ip', 'dst_ip']\n",
    "\n",
    "features_port = ['src_port', 'dst_port']\n",
    "\n",
    "pipeline_original = build_preprocessing_pipeline(features_numericas, features_categoricas, features_textuais, features_ip, features_port)\n",
    "pipeline_ataques = build_preprocessing_pipeline(features_numericas, features_categoricas, features_textuais, features_ip, features_port)\n",
    "\n",
    "Xdev_pre_original = pipeline_original.fit_transform(Xdev_original)\n",
    "Xtest_pre_original = pipeline_original.transform(Xtest_original)\n",
    "\n",
    "Xdev_pre_ataques = pipeline_ataques.fit_transform(Xdev_ataques)\n",
    "Xtest_pre_ataques = pipeline_ataques.transform(Xtest_ataques)"
   ]
  },
  {
   "cell_type": "markdown",
   "metadata": {},
   "source": [
    "# Avaliação"
   ]
  },
  {
   "cell_type": "code",
   "execution_count": 24,
   "metadata": {},
   "outputs": [
    {
     "name": "stderr",
     "output_type": "stream",
     "text": [
      "c:\\Users\\igorr\\anaconda3\\Lib\\site-packages\\sklearn\\preprocessing\\_encoders.py:242: UserWarning: Found unknown categories in columns [4] during transform. These unknown categories will be encoded as all zeros\n",
      "  warnings.warn(\n"
     ]
    },
    {
     "name": "stdout",
     "output_type": "stream",
     "text": [
      "Accuracy: 0.8048225047499771\n",
      "F1 macro: 0.812413414731864\n",
      "Precision macro 0.8654608528119723\n",
      "Recall macro: 0.8048225047499771\n"
     ]
    }
   ],
   "source": [
    "primary_params = {'C': 10000.0, 'class_weight': 'balanced', 'max_iter': 250, 'random_state': 42, 'threshold': 0.5552008115994623}\n",
    "secondary_params = {'C': 1000.0, 'class_weight': None, 'max_iter': 3000, 'random_state': 42}\n",
    "\n",
    "primary_features = ['src_ip_host', 'src_ip_ipv6', 'src_ip_privado', 'src_ip_multicast', 'dst_ip_host', 'dst_ip_broadcast', 'dst_ip_ipv6', 'dst_ip_privado', 'dst_ip_multicast', 'src_port_well_known', 'src_port_registered', 'src_port_dynamic', 'dst_port_well_known', 'dst_port_registered', 'dst_port_dynamic', 'duration', 'dst_pkts', 'src_ip_bytes', 'dst_ip_bytes', 'src_bytes', 'http_response_body_len', 'missed_bytes', 'http_request_body_len', 'weird_notice_F', 'weird_addl_-', 'weird_addl_46', 'weird_name_-', 'weird_name_DNS_RR_unknown_type', 'weird_name_above_hole_data_without_any_acks', 'weird_name_active_connection_reuse', 'weird_name_bad_TCP_checksum', 'weird_name_bad_UDP_checksum', 'weird_name_connection_originator_SYN_ack', 'weird_name_data_before_established', 'weird_name_inappropriate_FIN', 'http_resp_mime_types_-', 'http_resp_mime_types_application/ocsp-response', 'http_resp_mime_types_application/vnd.ms-cab-compressed', 'http_resp_mime_types_application/xml', 'http_resp_mime_types_image/jpeg', 'http_resp_mime_types_image/png', 'http_resp_mime_types_text/html', 'http_resp_mime_types_text/json', 'http_orig_mime_types_-', 'http_status_code_0', 'http_status_code_200', 'http_status_code_206', 'http_status_code_302', 'http_status_code_404', 'http_version_1.1', 'http_method_-', 'http_method_GET', 'http_trans_depth_-', 'http_trans_depth_1', 'http_trans_depth_2', 'ssl_established_-', 'ssl_established_F', 'ssl_established_T', 'ssl_resumed_-', 'ssl_resumed_F', 'ssl_resumed_T', 'ssl_cipher_-', 'ssl_cipher_TLS_AES_128_GCM_SHA256', 'ssl_cipher_TLS_ECDHE_RSA_WITH_AES_128_GCM_SHA256', 'ssl_cipher_TLS_ECDHE_RSA_WITH_AES_256_GCM_SHA384', 'ssl_version_-', 'ssl_version_TLSv12', 'ssl_version_TLSv13', 'dns_rejected_-', 'dns_rejected_F', 'dns_rejected_T', 'dns_RA_-', 'dns_RA_F', 'dns_RA_T', 'dns_RD_-', 'dns_RD_F', 'dns_RD_T', 'dns_AA_-', 'dns_AA_F', 'dns_AA_T', 'dns_rcode_0', 'dns_rcode_1', 'dns_rcode_2', 'dns_rcode_3', 'dns_rcode_5', 'dns_qtype_0', 'dns_qtype_1', 'dns_qtype_2', 'dns_qtype_12', 'dns_qtype_28', 'dns_qtype_32', 'dns_qtype_33', 'dns_qtype_43', 'dns_qtype_48', 'dns_qtype_255', 'dns_qclass_0', 'dns_qclass_1', 'dns_qclass_32769', 'service_-', 'service_dce_rpc', 'service_dhcp', 'service_dns', 'service_ftp', 'service_gssapi', 'service_http', 'service_smb', 'service_ssl', 'proto_icmp', 'proto_tcp', 'proto_udp', 'conn_state_OTH', 'conn_state_REJ', 'conn_state_RSTO', 'conn_state_RSTOS0', 'conn_state_RSTR', 'conn_state_RSTRH', 'conn_state_S0', 'conn_state_S1', 'conn_state_S2', 'conn_state_SF', 'conn_state_SH', 'conn_state_SHR', 'http_user_agent_infrequent_sklearn', 'http_uri_infrequent_sklearn', 'ssl_subject_infrequent_sklearn', 'ssl_issuer_infrequent_sklearn', 'dns_query_infrequent_sklearn']\n",
    "secondary_features = ['src_ip_privado', 'dst_ip_broadcast', 'dst_ip_privado',\n",
    "       'src_port_well_known', 'src_port_registered', 'src_port_dynamic',\n",
    "       'dst_port_well_known', 'dst_port_registered', 'dst_port_dynamic',\n",
    "       'duration', 'dst_pkts', 'src_ip_bytes', 'dst_ip_bytes', 'src_pkts',\n",
    "       'weird_notice_F', 'weird_name_possible_split_routing',\n",
    "       'http_orig_mime_types_-', 'http_status_code_0', 'http_status_code_200',\n",
    "       'http_status_code_404', 'http_method_-', 'dns_rejected_-',\n",
    "       'dns_rejected_F', 'dns_rejected_T', 'dns_RA_-', 'dns_RA_F', 'dns_RA_T',\n",
    "       'dns_RD_-', 'dns_RD_F', 'dns_RD_T', 'dns_AA_-', 'dns_AA_F', 'dns_AA_T',\n",
    "       'dns_rcode_0', 'dns_rcode_3', 'dns_rcode_5', 'dns_qtype_0',\n",
    "       'dns_qtype_1', 'dns_qtype_6', 'dns_qclass_1', 'service_-',\n",
    "       'service_dce_rpc', 'service_dns', 'service_ftp', 'service_http',\n",
    "       'service_smb', 'service_smb;gssapi', 'service_ssl', 'proto_icmp',\n",
    "       'proto_tcp', 'proto_udp', 'conn_state_OTH', 'conn_state_REJ',\n",
    "       'conn_state_RSTO', 'conn_state_RSTOS0', 'conn_state_RSTR',\n",
    "       'conn_state_RSTRH', 'conn_state_S0', 'conn_state_S1', 'conn_state_S2',\n",
    "       'conn_state_S3', 'conn_state_SF', 'conn_state_SH', 'conn_state_SHR',\n",
    "       'dns_query_infrequent_sklearn']\n",
    "\n",
    "\n",
    "# Primary model\n",
    "primary_model = LogRegWithThreshold(**primary_params)\n",
    "primary_model.fit(Xdev_pre_original[primary_features], ydev_original['label'])\n",
    "\n",
    "primary_pred = primary_model.predict(Xtest_pre_original[primary_features])\n",
    "\n",
    "mask_ataques = (primary_pred == 1) & (ytest_original['label'] == 1)\n",
    "input_module2 = Xtest_original.loc[mask_ataques, :].reset_index(drop=True)\n",
    "\n",
    "Xtest_pre_ataques = pipeline_ataques.transform(input_module2)\n",
    "\n",
    "ytest_ataques = ytest_original.loc[mask_ataques].reset_index(drop=True)\n",
    "ytest_ataques.loc[:, 'type'] = le.transform(ytest_ataques.type)\n",
    "\n",
    "# Secondary model\n",
    "secondary_model = LogisticRegression(**secondary_params)\n",
    "secondary_model.fit(Xdev_pre_ataques[secondary_features], ydev_ataques.type.astype(int))\n",
    "secondary_pred = secondary_model.predict(Xtest_pre_ataques[secondary_features])\n",
    "\n",
    "print(f'Accuracy: {balanced_accuracy_score(ytest_ataques.type.values.astype(int), secondary_pred)}')\n",
    "print(f'F1 macro: {f1_score(ytest_ataques.type.values.astype(int), secondary_pred, average=\"macro\")}')\n",
    "print(f'Precision macro', precision_score(ytest_ataques.type.values.astype(int), secondary_pred, average=\"macro\"))\n",
    "print(f'Recall macro:', recall_score(ytest_ataques.type.values.astype(int), secondary_pred, average=\"macro\"))"
   ]
  },
  {
   "cell_type": "code",
   "execution_count": 25,
   "metadata": {},
   "outputs": [
    {
     "data": {
      "text/html": [
       "<div>\n",
       "<style scoped>\n",
       "    .dataframe tbody tr th:only-of-type {\n",
       "        vertical-align: middle;\n",
       "    }\n",
       "\n",
       "    .dataframe tbody tr th {\n",
       "        vertical-align: top;\n",
       "    }\n",
       "\n",
       "    .dataframe thead th {\n",
       "        text-align: right;\n",
       "    }\n",
       "</style>\n",
       "<table border=\"1\" class=\"dataframe\">\n",
       "  <thead>\n",
       "    <tr style=\"text-align: right;\">\n",
       "      <th></th>\n",
       "      <th>Precision</th>\n",
       "      <th>Recall</th>\n",
       "      <th>Accuracy</th>\n",
       "      <th>F1score</th>\n",
       "    </tr>\n",
       "  </thead>\n",
       "  <tbody>\n",
       "    <tr>\n",
       "      <th>backdoor</th>\n",
       "      <td>80.75</td>\n",
       "      <td>100.00</td>\n",
       "      <td>96.89</td>\n",
       "      <td>89.35</td>\n",
       "    </tr>\n",
       "    <tr>\n",
       "      <th>ddos</th>\n",
       "      <td>93.48</td>\n",
       "      <td>92.84</td>\n",
       "      <td>98.24</td>\n",
       "      <td>93.16</td>\n",
       "    </tr>\n",
       "    <tr>\n",
       "      <th>dos</th>\n",
       "      <td>88.46</td>\n",
       "      <td>93.02</td>\n",
       "      <td>97.53</td>\n",
       "      <td>90.68</td>\n",
       "    </tr>\n",
       "    <tr>\n",
       "      <th>injection</th>\n",
       "      <td>88.85</td>\n",
       "      <td>74.34</td>\n",
       "      <td>95.61</td>\n",
       "      <td>80.95</td>\n",
       "    </tr>\n",
       "    <tr>\n",
       "      <th>mitm</th>\n",
       "      <td>70.97</td>\n",
       "      <td>15.71</td>\n",
       "      <td>99.59</td>\n",
       "      <td>25.73</td>\n",
       "    </tr>\n",
       "    <tr>\n",
       "      <th>password</th>\n",
       "      <td>78.66</td>\n",
       "      <td>81.89</td>\n",
       "      <td>94.76</td>\n",
       "      <td>80.24</td>\n",
       "    </tr>\n",
       "    <tr>\n",
       "      <th>ransomware</th>\n",
       "      <td>90.63</td>\n",
       "      <td>99.25</td>\n",
       "      <td>98.99</td>\n",
       "      <td>94.74</td>\n",
       "    </tr>\n",
       "    <tr>\n",
       "      <th>scanning</th>\n",
       "      <td>97.06</td>\n",
       "      <td>79.51</td>\n",
       "      <td>97.02</td>\n",
       "      <td>87.41</td>\n",
       "    </tr>\n",
       "    <tr>\n",
       "      <th>xss</th>\n",
       "      <td>90.06</td>\n",
       "      <td>87.77</td>\n",
       "      <td>97.16</td>\n",
       "      <td>88.90</td>\n",
       "    </tr>\n",
       "  </tbody>\n",
       "</table>\n",
       "</div>"
      ],
      "text/plain": [
       "            Precision  Recall  Accuracy  F1score\n",
       "backdoor        80.75  100.00     96.89    89.35\n",
       "ddos            93.48   92.84     98.24    93.16\n",
       "dos             88.46   93.02     97.53    90.68\n",
       "injection       88.85   74.34     95.61    80.95\n",
       "mitm            70.97   15.71     99.59    25.73\n",
       "password        78.66   81.89     94.76    80.24\n",
       "ransomware      90.63   99.25     98.99    94.74\n",
       "scanning        97.06   79.51     97.02    87.41\n",
       "xss             90.06   87.77     97.16    88.90"
      ]
     },
     "execution_count": 25,
     "metadata": {},
     "output_type": "execute_result"
    }
   ],
   "source": [
    "classes = sorted(ytest_ataques.type.unique())\n",
    "metrics = {'Precision':[], 'Recall':[], 'Accuracy':[], 'F1score':[]}\n",
    "for c in classes:\n",
    "    real = ytest_ataques.type.copy()\n",
    "    real[ytest_ataques.type == c] = 1\n",
    "    real[ytest_ataques.type != c] = 0\n",
    "    real = real.values.astype(int)\n",
    "\n",
    "    pred = secondary_pred.copy()\n",
    "    pred[secondary_pred == c] = 1\n",
    "    pred[secondary_pred != c] = 0\n",
    "    pred = pred.astype(int)\n",
    "\n",
    "    metrics['Precision'].append(precision_score(real, pred))\n",
    "    metrics['Recall'].append(recall_score(real, pred))\n",
    "    metrics['Accuracy'].append(accuracy_score(real, pred))\n",
    "    metrics['F1score'].append(f1_score(real, pred))\n",
    "\n",
    "pd.DataFrame(metrics, index=le.classes_).round(4) * 100"
   ]
  },
  {
   "cell_type": "code",
   "execution_count": 50,
   "metadata": {},
   "outputs": [
    {
     "data": {
      "text/plain": [
       "1"
      ]
     },
     "execution_count": 50,
     "metadata": {},
     "output_type": "execute_result"
    }
   ],
   "source": [
    "mitm_dificeis = [350, 400, 994, 1025, 1207, 1230, 1314, 1888, 2048, 2054, 2557, 2652, 3068, 3221, 4088, 4228, 4563, 5238, 5364, 5521, 5591, 5809, 5921, 6379, 6459, 6664, 7142, 7348, 7533, 7794, 7830, 7983, 8072, 8106, 8184, 8196, 8254, 8264, 9025, 9257, 9344, 9536, 9542, 9586, 10262, 10460, 10575, 11466, 11787, 12134, 12268, 12590, 12735, 13365, 13476, 13544, 13551, 13697, 13904, 14475, 14486, 14544, 14660, 14916, 14955, 15190, 15592, 15753, 15842, 15888, 15958, 16181, 16604, 16640, 17149, 17463, 17762, 17833, 17901, 18064, 18369, 18507, 18603, 19300, 19666, 19736, 19950, 20137, 20412, 20474, 20652, 20998, 21696, 22066, 22270, 22331, 22552, 22572, 22918, 23351, 23570, 23844, 23914, 24231, 24458, 24878, 25598, 25855, 26011, 26039, 26212, 26871, 26985, 27513, 27623, 27985, 28218, 28275, 28375, 28455, 28456, 28716, 28983, 29062, 29235, 29458, 30197, 30216, 30507, 30808, 30834, 30859, 31093, 31100, 31536, 31783, 31787, 31979, 32059]\n",
    "\n",
    "mask_acertos = primary_pred == ytest_original.label\n",
    "mask_mitm = ytest_original.type == 'mitm'\n",
    "mitm_passados = Xtest_pre_original[mask_mitm & mask_acertos]\n",
    "mitm_passados.index.isin(mitm_dificeis).sum()"
   ]
  },
  {
   "cell_type": "code",
   "execution_count": 52,
   "metadata": {},
   "outputs": [
    {
     "data": {
      "text/html": [
       "<div>\n",
       "<style scoped>\n",
       "    .dataframe tbody tr th:only-of-type {\n",
       "        vertical-align: middle;\n",
       "    }\n",
       "\n",
       "    .dataframe tbody tr th {\n",
       "        vertical-align: top;\n",
       "    }\n",
       "\n",
       "    .dataframe thead th {\n",
       "        text-align: right;\n",
       "    }\n",
       "</style>\n",
       "<table border=\"1\" class=\"dataframe\">\n",
       "  <thead>\n",
       "    <tr style=\"text-align: right;\">\n",
       "      <th></th>\n",
       "      <th>label</th>\n",
       "      <th>type</th>\n",
       "    </tr>\n",
       "  </thead>\n",
       "  <tbody>\n",
       "    <tr>\n",
       "      <th>0</th>\n",
       "      <td>1</td>\n",
       "      <td>dos</td>\n",
       "    </tr>\n",
       "    <tr>\n",
       "      <th>1</th>\n",
       "      <td>0</td>\n",
       "      <td>normal</td>\n",
       "    </tr>\n",
       "    <tr>\n",
       "      <th>2</th>\n",
       "      <td>1</td>\n",
       "      <td>ddos</td>\n",
       "    </tr>\n",
       "    <tr>\n",
       "      <th>3</th>\n",
       "      <td>0</td>\n",
       "      <td>normal</td>\n",
       "    </tr>\n",
       "    <tr>\n",
       "      <th>4</th>\n",
       "      <td>0</td>\n",
       "      <td>normal</td>\n",
       "    </tr>\n",
       "    <tr>\n",
       "      <th>...</th>\n",
       "      <td>...</td>\n",
       "      <td>...</td>\n",
       "    </tr>\n",
       "    <tr>\n",
       "      <th>92204</th>\n",
       "      <td>1</td>\n",
       "      <td>backdoor</td>\n",
       "    </tr>\n",
       "    <tr>\n",
       "      <th>92205</th>\n",
       "      <td>0</td>\n",
       "      <td>normal</td>\n",
       "    </tr>\n",
       "    <tr>\n",
       "      <th>92206</th>\n",
       "      <td>0</td>\n",
       "      <td>normal</td>\n",
       "    </tr>\n",
       "    <tr>\n",
       "      <th>92207</th>\n",
       "      <td>0</td>\n",
       "      <td>normal</td>\n",
       "    </tr>\n",
       "    <tr>\n",
       "      <th>92208</th>\n",
       "      <td>1</td>\n",
       "      <td>ddos</td>\n",
       "    </tr>\n",
       "  </tbody>\n",
       "</table>\n",
       "<p>92209 rows × 2 columns</p>\n",
       "</div>"
      ],
      "text/plain": [
       "       label      type\n",
       "0          1       dos\n",
       "1          0    normal\n",
       "2          1      ddos\n",
       "3          0    normal\n",
       "4          0    normal\n",
       "...      ...       ...\n",
       "92204      1  backdoor\n",
       "92205      0    normal\n",
       "92206      0    normal\n",
       "92207      0    normal\n",
       "92208      1      ddos\n",
       "\n",
       "[92209 rows x 2 columns]"
      ]
     },
     "execution_count": 52,
     "metadata": {},
     "output_type": "execute_result"
    }
   ],
   "source": [
    "ytest_original"
   ]
  },
  {
   "cell_type": "code",
   "execution_count": 28,
   "metadata": {},
   "outputs": [
    {
     "data": {
      "text/plain": [
       "0.9518768046198267"
      ]
     },
     "execution_count": 28,
     "metadata": {},
     "output_type": "execute_result"
    }
   ],
   "source": [
    "recall_score(ytest_original['label'], primary_pred)"
   ]
  },
  {
   "cell_type": "code",
   "execution_count": 40,
   "metadata": {},
   "outputs": [
    {
     "name": "stdout",
     "output_type": "stream",
     "text": [
      "Accuracy: 0.5447965124257834\n"
     ]
    },
    {
     "name": "stderr",
     "output_type": "stream",
     "text": [
      "c:\\Users\\igorr\\anaconda3\\Lib\\site-packages\\sklearn\\metrics\\_classification.py:2480: UserWarning: y_pred contains classes not in y_true\n",
      "  warnings.warn(\"y_pred contains classes not in y_true\")\n"
     ]
    }
   ],
   "source": [
    "print(f'Accuracy: {balanced_accuracy_score(ytest_ataques.type, secondary_pred)}')\n"
   ]
  },
  {
   "cell_type": "code",
   "execution_count": 35,
   "metadata": {},
   "outputs": [
    {
     "data": {
      "text/plain": [
       "type\n",
       "0    3993\n",
       "7    3992\n",
       "5    3987\n",
       "8    3975\n",
       "2    3955\n",
       "1    3952\n",
       "3    3850\n",
       "6    2815\n",
       "4     140\n",
       "Name: count, dtype: int64"
      ]
     },
     "execution_count": 35,
     "metadata": {},
     "output_type": "execute_result"
    }
   ],
   "source": [
    "ytest_ataques.type.value_counts(normalize=False)"
   ]
  }
 ],
 "metadata": {
  "kernelspec": {
   "display_name": "base",
   "language": "python",
   "name": "python3"
  },
  "language_info": {
   "codemirror_mode": {
    "name": "ipython",
    "version": 3
   },
   "file_extension": ".py",
   "mimetype": "text/x-python",
   "name": "python",
   "nbconvert_exporter": "python",
   "pygments_lexer": "ipython3",
   "version": "3.11.7"
  }
 },
 "nbformat": 4,
 "nbformat_minor": 2
}
