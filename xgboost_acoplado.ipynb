{
 "cells": [
  {
   "cell_type": "code",
   "execution_count": 28,
   "metadata": {},
   "outputs": [],
   "source": [
    "import pandas as pd\n",
    "import numpy as np\n",
    "import seaborn as sns\n",
    "import matplotlib.pyplot as plt\n",
    "from sklearn.model_selection import train_test_split, cross_val_score, StratifiedKFold\n",
    "from pipeline import build_preprocessing_pipeline\n",
    "from sklearn.metrics import accuracy_score, f1_score, make_scorer, balanced_accuracy_score, precision_score, recall_score\n",
    "from sklearn.feature_selection import RFECV\n",
    "from sklearn.model_selection import GridSearchCV, RandomizedSearchCV\n",
    "from scipy.stats import uniform, randint\n",
    "from scipy.stats import uniform, randint\n",
    "from modelos import XGBWithThreshold, CascadedXGBClassifier\n",
    "from metricas import custom_fbeta\n",
    "from sklearn.preprocessing import LabelEncoder\n",
    "\n",
    "import xgboost as xgb\n",
    "\n",
    "pd.set_option('display.max_columns', 50)"
   ]
  },
  {
   "cell_type": "code",
   "execution_count": 29,
   "metadata": {},
   "outputs": [],
   "source": [
    "df_original = pd.read_csv('data/train_test_network.csv')\n",
    "df_ataques = pd.read_csv('data/attack_dataset.csv')"
   ]
  },
  {
   "cell_type": "markdown",
   "metadata": {},
   "source": [
    "# Separação: Dev-Teste"
   ]
  },
  {
   "cell_type": "code",
   "execution_count": 30,
   "metadata": {},
   "outputs": [],
   "source": [
    "X_original = df_original.iloc[:, :-2]\n",
    "y_original = df_original.iloc[:, -2:]\n",
    "X_ataques = df_ataques.iloc[:, :-2]\n",
    "y_ataques = df_ataques.iloc[:, -2:]\n",
    "\n",
    "#le = LabelEncoder()\n",
    "#y_original.type = le.fit_transform(y_original.type)\n",
    "#y_ataques.type = le.fit_transform(y_ataques.type)\n",
    "\n",
    "Xdev_original, Xtest_original, ydev_original, ytest_original = train_test_split(X_original, y_original, test_size=0.2, stratify=y_original, random_state=42)\n",
    "Xdev_ataques, Xtest_ataques, ydev_ataques, ytest_ataques = train_test_split(X_ataques, y_ataques, test_size=0.2, stratify=y_ataques, random_state=42)\n",
    "\n",
    "Xdev_original = Xdev_original.reset_index(drop=True)\n",
    "Xtest_original = Xtest_original.reset_index(drop=True)\n",
    "ydev_original = ydev_original.reset_index(drop=True)\n",
    "ytest_original = ytest_original.reset_index(drop=True)\n",
    "\n",
    "Xdev_ataques = Xdev_ataques.reset_index(drop=True)\n",
    "Xtest_ataques = Xtest_ataques.reset_index(drop=True)\n",
    "ydev_ataques = ydev_ataques.reset_index(drop=True)\n",
    "ytest_ataques = ytest_ataques.reset_index(drop=True)"
   ]
  },
  {
   "cell_type": "markdown",
   "metadata": {},
   "source": [
    "# Pré-processamento"
   ]
  },
  {
   "cell_type": "code",
   "execution_count": 31,
   "metadata": {},
   "outputs": [
    {
     "name": "stderr",
     "output_type": "stream",
     "text": [
      "c:\\Users\\igorr\\anaconda3\\Lib\\site-packages\\sklearn\\preprocessing\\_encoders.py:242: UserWarning: Found unknown categories in columns [11] during transform. These unknown categories will be encoded as all zeros\n",
      "  warnings.warn(\n",
      "c:\\Users\\igorr\\anaconda3\\Lib\\site-packages\\sklearn\\preprocessing\\_encoders.py:242: UserWarning: Found unknown categories in columns [0, 1, 4] during transform. These unknown categories will be encoded as all zeros\n",
      "  warnings.warn(\n",
      "c:\\Users\\igorr\\anaconda3\\Lib\\site-packages\\sklearn\\preprocessing\\_encoders.py:242: UserWarning: Found unknown categories in columns [0, 4] during transform. These unknown categories will be encoded as all zeros\n",
      "  warnings.warn(\n"
     ]
    }
   ],
   "source": [
    "# http_response_body_len nao e exatamente categorica, mas se considerarmos todas\n",
    "# as entradas infrequentes como uma coisa so, ela vira categorica\n",
    "\n",
    "# Textuais que podem ser consideradas categoricas:\n",
    "#ssl_subject, ssl_issuer, dns_query\n",
    "#Sinonimo para features textuais - features descritivas\n",
    "features_textuais = ['http_user_agent', 'http_uri', 'ssl_subject', 'ssl_issuer', 'dns_query']\n",
    "features_categoricas = ['weird_notice', 'weird_addl', 'weird_name', 'http_resp_mime_types', 'http_orig_mime_types', 'http_status_code', 'http_version',\n",
    "                        'http_method', 'http_trans_depth', 'ssl_established',\n",
    "                        'ssl_resumed', 'ssl_cipher', 'ssl_version', 'dns_rejected', 'dns_RA', 'dns_RD', 'dns_AA', 'dns_rcode', 'dns_qtype', 'dns_qclass',\n",
    "                        'service', 'proto', 'conn_state']\n",
    "features_numericas = ['duration', 'dst_pkts', 'src_ip_bytes', 'dst_ip_bytes', 'src_bytes', 'http_response_body_len', 'dst_bytes',\n",
    "                     'missed_bytes', 'src_pkts', 'http_request_body_len']\n",
    "\n",
    "colunas_para_excluir = ['src_ip', 'src_port', 'dst_ip', 'dst_port']\n",
    "\n",
    "features_ip = ['src_ip', 'dst_ip']\n",
    "\n",
    "features_port = ['src_port', 'dst_port']\n",
    "\n",
    "pipeline_original = build_preprocessing_pipeline(features_numericas, features_categoricas, features_textuais, features_ip, features_port)\n",
    "pipeline_ataques = build_preprocessing_pipeline(features_numericas, features_categoricas, features_textuais, features_ip, features_port)\n",
    "\n",
    "Xdev_pre_original = pipeline_original.fit_transform(Xdev_original)\n",
    "Xtest_pre_original = pipeline_original.transform(Xtest_original)\n",
    "\n",
    "Xdev_pre_ataques = pipeline_ataques.fit_transform(Xdev_ataques)\n",
    "Xtest_pre_ataques = pipeline_ataques.transform(Xtest_ataques)"
   ]
  },
  {
   "cell_type": "markdown",
   "metadata": {},
   "source": [
    "# Avaliação"
   ]
  },
  {
   "cell_type": "code",
   "execution_count": 53,
   "metadata": {},
   "outputs": [
    {
     "name": "stderr",
     "output_type": "stream",
     "text": [
      "c:\\Users\\igorr\\anaconda3\\Lib\\site-packages\\sklearn\\preprocessing\\_encoders.py:242: UserWarning: Found unknown categories in columns [4] during transform. These unknown categories will be encoded as all zeros\n",
      "  warnings.warn(\n"
     ]
    },
    {
     "name": "stdout",
     "output_type": "stream",
     "text": [
      "Accuracy: 0.9750845851534441\n",
      "F1 macro: 0.9709341321604114\n",
      "Precision macro 0.9675294623259342\n",
      "Recall macro: 0.9750845851534441\n"
     ]
    }
   ],
   "source": [
    "primary_params = {'learning_rate': 0.23162425041415757, 'max_depth': 28, 'n_estimators': 68, 'random_state': 42, 'reg_lambda': 0.011768119524349979, 'threshold': 0.5233328316068078}\n",
    "secondary_params = {'learning_rate': 0.1573640674119393, 'max_depth': 10, 'n_estimators': 97, 'random_state': 42, 'reg_lambda': 0.03948815181755697}\n",
    "\n",
    "primary_features = ['src_ip_ipv6', 'src_ip_privado', 'dst_ip_broadcast', 'dst_ip_ipv6', 'dst_ip_privado', 'dst_ip_multicast', 'src_port_well_known',\n",
    "       'src_port_registered', 'src_port_dynamic', 'dst_port_well_known', 'dst_port_registered', 'dst_port_dynamic', 'duration', 'dst_pkts',\n",
    "       'src_ip_bytes', 'dst_ip_bytes', 'src_bytes', 'dst_bytes', 'missed_bytes', 'src_pkts', 'weird_notice_F', 'http_status_code_0',\n",
    "       'ssl_established_-', 'ssl_resumed_T', 'dns_rejected_-', 'dns_rejected_F', 'dns_rejected_T', 'dns_RA_F', 'dns_RA_T', 'dns_RD_F',\n",
    "       'dns_RD_T', 'dns_AA_F', 'dns_rcode_0', 'dns_rcode_2', 'dns_rcode_3', 'dns_qtype_0', 'dns_qtype_1', 'dns_qtype_12', 'dns_qtype_28',\n",
    "       'dns_qtype_33', 'dns_qclass_1', 'service_-', 'service_dns', 'service_ftp', 'service_http', 'service_ssl', 'proto_icmp', 'proto_tcp',\n",
    "       'proto_udp', 'conn_state_OTH', 'conn_state_REJ', 'conn_state_RSTO', 'conn_state_RSTOS0', 'conn_state_RSTR', 'conn_state_RSTRH',\n",
    "       'conn_state_S0', 'conn_state_S1', 'conn_state_S2', 'conn_state_S3', 'conn_state_SF', 'conn_state_SH', 'conn_state_SHR', 'dns_query_infrequent_sklearn']\n",
    "secondary_features = ['duration', 'dst_pkts', 'src_ip_bytes', 'dst_ip_bytes', 'src_bytes', 'dst_bytes', 'missed_bytes', 'src_pkts', 'weird_notice_F',\n",
    "       'dns_rejected_-', 'dns_rejected_F', 'dns_rejected_T', 'dns_RA_F', 'dns_RA_T', 'dns_RD_F', 'dns_RD_T', 'dns_AA_F', 'dns_rcode_0',\n",
    "       'dns_rcode_3', 'dns_rcode_5', 'dns_qtype_1', 'dns_qtype_6', 'dns_qtype_28', 'service_-', 'service_dce_rpc', 'service_ftp',\n",
    "       'service_http', 'service_smb', 'service_smb;gssapi', 'service_ssl', 'proto_icmp', 'proto_tcp', 'proto_udp', 'conn_state_OTH',\n",
    "       'conn_state_REJ', 'conn_state_RSTO', 'conn_state_RSTOS0', 'conn_state_RSTR', 'conn_state_RSTRH', 'conn_state_S0', 'conn_state_S1',\n",
    "       'conn_state_S2', 'conn_state_S3', 'conn_state_SF', 'conn_state_SH', 'conn_state_SHR']\n",
    "\n",
    "\n",
    "# Primary model\n",
    "primary_model = XGBWithThreshold(**primary_params)\n",
    "primary_model.fit(Xdev_pre_original[primary_features], ydev_original['label'])\n",
    "\n",
    "primary_pred = primary_model.predict(Xtest_pre_original[primary_features])\n",
    "\n",
    "mask_ataques = (primary_pred == 1) & (ytest_original['label'] == 1)\n",
    "input_module2 = Xtest_original.loc[mask_ataques, :].reset_index(drop=True)\n",
    "\n",
    "Xtest_pre_ataques = pipeline_ataques.transform(input_module2)\n",
    "\n",
    "ytest_ataques = ytest_original.loc[mask_ataques].reset_index(drop=True)\n",
    "le = LabelEncoder()\n",
    "ydev_ataques.loc[:, 'type'] = le.fit_transform(ydev_ataques.type)\n",
    "ytest_ataques.loc[:, 'type'] = le.fit_transform(ytest_ataques.type)\n",
    "\n",
    "# Secondary model\n",
    "secondary_model = xgb.XGBClassifier(**secondary_params)\n",
    "secondary_model.fit(Xdev_pre_ataques[secondary_features], ydev_ataques.type)\n",
    "secondary_pred = secondary_model.predict(Xtest_pre_ataques[secondary_features])\n",
    "\n",
    "print(f'Accuracy: {balanced_accuracy_score(ytest_ataques.type.values.astype(int), secondary_pred)}')\n",
    "print(f'F1 macro: {f1_score(ytest_ataques.type.values.astype(int), secondary_pred, average=\"macro\")}')\n",
    "print(f'Precision macro', precision_score(ytest_ataques.type.values.astype(int), secondary_pred, average=\"macro\"))\n",
    "print(f'Recall macro:', recall_score(ytest_ataques.type.values.astype(int), secondary_pred, average=\"macro\"))"
   ]
  },
  {
   "cell_type": "code",
   "execution_count": 56,
   "metadata": {},
   "outputs": [
    {
     "name": "stdout",
     "output_type": "stream",
     "text": [
      "0.9956511837239315\n"
     ]
    }
   ],
   "source": [
    "print(accuracy_score(ytest_original.label, primary_pred))"
   ]
  },
  {
   "cell_type": "code",
   "execution_count": 63,
   "metadata": {},
   "outputs": [
    {
     "data": {
      "text/html": [
       "<div>\n",
       "<style scoped>\n",
       "    .dataframe tbody tr th:only-of-type {\n",
       "        vertical-align: middle;\n",
       "    }\n",
       "\n",
       "    .dataframe tbody tr th {\n",
       "        vertical-align: top;\n",
       "    }\n",
       "\n",
       "    .dataframe thead th {\n",
       "        text-align: right;\n",
       "    }\n",
       "</style>\n",
       "<table border=\"1\" class=\"dataframe\">\n",
       "  <thead>\n",
       "    <tr style=\"text-align: right;\">\n",
       "      <th></th>\n",
       "      <th>Precision</th>\n",
       "      <th>Recall</th>\n",
       "      <th>Accuracy</th>\n",
       "      <th>F1score</th>\n",
       "    </tr>\n",
       "  </thead>\n",
       "  <tbody>\n",
       "    <tr>\n",
       "      <th>backdoor</th>\n",
       "      <td>1.0</td>\n",
       "      <td>0.999750</td>\n",
       "      <td>0.999750</td>\n",
       "      <td>0.999875</td>\n",
       "    </tr>\n",
       "    <tr>\n",
       "      <th>ddos</th>\n",
       "      <td>1.0</td>\n",
       "      <td>0.980461</td>\n",
       "      <td>0.980461</td>\n",
       "      <td>0.990134</td>\n",
       "    </tr>\n",
       "    <tr>\n",
       "      <th>dos</th>\n",
       "      <td>1.0</td>\n",
       "      <td>0.990481</td>\n",
       "      <td>0.990481</td>\n",
       "      <td>0.995218</td>\n",
       "    </tr>\n",
       "    <tr>\n",
       "      <th>injection</th>\n",
       "      <td>1.0</td>\n",
       "      <td>0.977233</td>\n",
       "      <td>0.977233</td>\n",
       "      <td>0.988485</td>\n",
       "    </tr>\n",
       "    <tr>\n",
       "      <th>mitm</th>\n",
       "      <td>1.0</td>\n",
       "      <td>0.944444</td>\n",
       "      <td>0.944444</td>\n",
       "      <td>0.971429</td>\n",
       "    </tr>\n",
       "    <tr>\n",
       "      <th>password</th>\n",
       "      <td>1.0</td>\n",
       "      <td>0.985496</td>\n",
       "      <td>0.985496</td>\n",
       "      <td>0.992695</td>\n",
       "    </tr>\n",
       "    <tr>\n",
       "      <th>ransomware</th>\n",
       "      <td>1.0</td>\n",
       "      <td>0.983020</td>\n",
       "      <td>0.983020</td>\n",
       "      <td>0.991437</td>\n",
       "    </tr>\n",
       "    <tr>\n",
       "      <th>scanning</th>\n",
       "      <td>1.0</td>\n",
       "      <td>0.995997</td>\n",
       "      <td>0.995997</td>\n",
       "      <td>0.997994</td>\n",
       "    </tr>\n",
       "    <tr>\n",
       "      <th>xss</th>\n",
       "      <td>1.0</td>\n",
       "      <td>0.918878</td>\n",
       "      <td>0.918878</td>\n",
       "      <td>0.957724</td>\n",
       "    </tr>\n",
       "  </tbody>\n",
       "</table>\n",
       "</div>"
      ],
      "text/plain": [
       "            Precision    Recall  Accuracy   F1score\n",
       "backdoor          1.0  0.999750  0.999750  0.999875\n",
       "ddos              1.0  0.980461  0.980461  0.990134\n",
       "dos               1.0  0.990481  0.990481  0.995218\n",
       "injection         1.0  0.977233  0.977233  0.988485\n",
       "mitm              1.0  0.944444  0.944444  0.971429\n",
       "password          1.0  0.985496  0.985496  0.992695\n",
       "ransomware        1.0  0.983020  0.983020  0.991437\n",
       "scanning          1.0  0.995997  0.995997  0.997994\n",
       "xss               1.0  0.918878  0.918878  0.957724"
      ]
     },
     "execution_count": 63,
     "metadata": {},
     "output_type": "execute_result"
    }
   ],
   "source": [
    "classes = sorted(ytest_ataques.type.unique())\n",
    "metrics = {'Precision':[], 'Recall':[], 'Accuracy':[], 'F1score':[]}\n",
    "for c in classes:\n",
    "    mask_c = ytest_ataques.type == c\n",
    "    pred = secondary_pred[mask_c]\n",
    "    mask_pos = pred == c\n",
    "    mask_neg = pred != c\n",
    "    pred[mask_pos] = 1\n",
    "    pred[mask_neg] = 0\n",
    "    real = np.ones_like(ytest_ataques.type[mask_c].values).astype(int)\n",
    "\n",
    "    metrics['Precision'].append(precision_score(real, pred))\n",
    "    metrics['Recall'].append(recall_score(real, pred))\n",
    "    metrics['Accuracy'].append(accuracy_score(real, pred))\n",
    "    metrics['F1score'].append(f1_score(real, pred))\n",
    "\n",
    "pd.DataFrame(metrics, index=le.classes_)"
   ]
  },
  {
   "cell_type": "code",
   "execution_count": 62,
   "metadata": {},
   "outputs": [
    {
     "data": {
      "text/plain": [
       "array([0, 1], dtype=int64)"
      ]
     },
     "execution_count": 62,
     "metadata": {},
     "output_type": "execute_result"
    }
   ],
   "source": [
    "np.unique(pred)"
   ]
  },
  {
   "cell_type": "code",
   "execution_count": 40,
   "metadata": {},
   "outputs": [
    {
     "name": "stdout",
     "output_type": "stream",
     "text": [
      "Accuracy: 0.5447965124257834\n"
     ]
    },
    {
     "name": "stderr",
     "output_type": "stream",
     "text": [
      "c:\\Users\\igorr\\anaconda3\\Lib\\site-packages\\sklearn\\metrics\\_classification.py:2480: UserWarning: y_pred contains classes not in y_true\n",
      "  warnings.warn(\"y_pred contains classes not in y_true\")\n"
     ]
    }
   ],
   "source": [
    "print(f'Accuracy: {balanced_accuracy_score(ytest_ataques.type, secondary_pred)}')\n"
   ]
  }
 ],
 "metadata": {
  "kernelspec": {
   "display_name": "base",
   "language": "python",
   "name": "python3"
  },
  "language_info": {
   "codemirror_mode": {
    "name": "ipython",
    "version": 3
   },
   "file_extension": ".py",
   "mimetype": "text/x-python",
   "name": "python",
   "nbconvert_exporter": "python",
   "pygments_lexer": "ipython3",
   "version": "3.11.7"
  }
 },
 "nbformat": 4,
 "nbformat_minor": 2
}
